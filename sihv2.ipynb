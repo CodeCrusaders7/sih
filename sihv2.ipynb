{
 "cells": [
  {
   "cell_type": "code",
   "execution_count": 16,
   "id": "initial_id",
   "metadata": {
    "ExecuteTime": {
     "end_time": "2023-09-21T12:05:27.117576803Z",
     "start_time": "2023-09-21T12:05:27.074084683Z"
    },
    "collapsed": False
   },
   "outputs": [],
   "source": [
    "import cv2\n",
    "import mediapipe as mp\n",
    "import numpy as np\n",
    "import os"
   ]
  },
  {
   "cell_type": "code",
   "execution_count": 15,
   "id": "22a7eaf086d69b84",
   "metadata": {
    "ExecuteTime": {
     "end_time": "2023-09-21T11:05:07.514302618Z",
     "start_time": "2023-09-21T11:05:07.504506512Z"
    },
    "collapsed": False
   },
   "outputs": [],
   "source": [
    "mpDraw = mp.solutions.drawing_utils\n",
    "mpPose = mp.solutions.pose\n",
    "pose = mpPose.Pose()"
   ]
  },
  {
   "cell_type": "code",
   "execution_count": 7,
   "id": "28de77893f7d6de0",
   "metadata": {
    "ExecuteTime": {
     "end_time": "2023-09-21T10:58:39.851019199Z",
     "start_time": "2023-09-21T10:58:39.803117360Z"
    },
    "collapsed": false
   },
   "outputs": [
    {
     "name": "stderr",
     "output_type": "stream",
     "text": [
      "[ WARN:0@2503.905] global cap_v4l.cpp:982 open VIDEOIO(V4L2:/dev/video0): can't open camera by index\n",
      "[ERROR:0@2503.905] global obsensor_uvc_stream_channel.cpp:156 getStreamChannelGroup Camera index out of range\n"
     ]
    }
   ],
   "source": [
    "import cv2\n",
    "import mediapipe as mp\n",
    "import numpy as np\n",
    "import os\n",
    "\n",
    "# Initialize Mediapipe Pose\n",
    "mpPose = mp.solutions.pose\n",
    "pose = mpPose.Pose()\n",
    "mpDraw = mp.solutions.drawing_utils\n",
    "\n",
    "cap = cv2.VideoCapture(\"chamarth.mp4\")\n",
    "landmark_list = []  # Use a list to store landmark values\n",
    "fileIndex = 0\n",
    "subFolderIndex = 0\n",
    "flag = 0\n",
    "folder_path = \"Trainingdata/Running\"\n",
    "folder_name = str(subFolderIndex)  # Initialize folder_name\n",
    "\n",
    "while True:\n",
    "    success, img = cap.read()\n",
    "\n",
    "    if not success:\n",
    "        break\n",
    "\n",
    "    imgRGB = cv2.cvtColor(img, cv2.COLOR_BGR2RGB)\n",
    "    results = pose.process(imgRGB)\n",
    "\n",
    "    if results.pose_landmarks:\n",
    "        mpDraw.draw_landmarks(img, results.pose_landmarks, mpPose.POSE_CONNECTIONS)\n",
    "        landmark_values = []  # Store landmark values for this frame\n",
    "        for lm in results.pose_landmarks.landmark:\n",
    "            landmark_values.extend([lm.x, lm.y, lm.z])\n",
    "        landmark_list.append(landmark_values)\n",
    "\n",
    "    if flag == 1:\n",
    "        # Save the list of landmark values as a numpy array\n",
    "        array = np.array(landmark_list)\n",
    "        file_name = f\"{folder_path}/{folder_name}/{fileIndex}.npy\"\n",
    "        np.save(file_name, array)\n",
    "        fileIndex += 1\n",
    "\n",
    "    cv2.imshow(\"LOL\", img)\n",
    "    key = cv2.waitKey(1)\n",
    "\n",
    "    if key == ord(\"k\"):\n",
    "        flag = 1\n",
    "        fileIndex = 0\n",
    "        subFolderIndex += 1\n",
    "        folder_name = str(subFolderIndex)  # Update folder_name\n",
    "        folder_path = \"Trainingdata/Walking\"  # Update folder_path\n",
    "        if not os.path.exists(os.path.join(folder_path, folder_name)):\n",
    "            os.makedirs(os.path.join(folder_path, folder_name))\n",
    "\n",
    "    if key == ord(\"l\"):\n",
    "        flag = 0\n",
    "\n",
    "    if key == ord(\"q\"):\n",
    "        break\n",
    "\n",
    "cv2.destroyAllWindows()\n",
    "cap.release()\n"
   ]
  },
  {
   "cell_type": "code",
   "execution_count": 8,
   "id": "5691058baa20e17e",
   "metadata": {
    "ExecuteTime": {
     "end_time": "2023-09-21T10:58:43.522301300Z",
     "start_time": "2023-09-21T10:58:43.511133690Z"
    },
    "collapsed": false
   },
   "outputs": [],
   "source": []
  }
 ],
 "metadata": {
  "kernelspec": {
   "display_name": "Python 3",
   "language": "python",
   "name": "python3"
  },
  "language_info": {
   "codemirror_mode": {
    "name": "ipython",
    "version": 2
   },
   "file_extension": ".py",
   "mimetype": "text/x-python",
   "name": "python",
   "nbconvert_exporter": "python",
   "pygments_lexer": "ipython2",
   "version": "2.7.6"
  }
 },
 "nbformat": 4,
 "nbformat_minor": 5
}
