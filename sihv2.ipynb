{
 "cells": [
  {
   "cell_type": "code",
   "execution_count": 16,
   "outputs": [],
   "source": [
    "import cv2\n",
    "import mediapipe as mp\n",
    "import numpy as np\n",
    "import os"
   ],
   "metadata": {
    "collapsed": false,
    "ExecuteTime": {
     "end_time": "2023-09-21T12:05:27.117576803Z",
     "start_time": "2023-09-21T12:05:27.074084683Z"
    }
   },
   "id": "initial_id"
  },
  {
   "cell_type": "code",
   "execution_count": 15,
   "outputs": [],
   "source": [
    "mpDraw = mp.solutions.drawing_utils\n",
    "mpPose = mp.solutions.pose\n",
    "pose = mpPose.Pose()"
   ],
   "metadata": {
    "collapsed": false,
    "ExecuteTime": {
     "end_time": "2023-09-21T11:05:07.514302618Z",
     "start_time": "2023-09-21T11:05:07.504506512Z"
    }
   },
   "id": "22a7eaf086d69b84"
  },
  {
   "cell_type": "code",
   "execution_count": 7,
   "outputs": [
    {
     "name": "stderr",
     "output_type": "stream",
     "text": [
      "[ WARN:0@2503.905] global cap_v4l.cpp:982 open VIDEOIO(V4L2:/dev/video0): can't open camera by index\n",
      "[ERROR:0@2503.905] global obsensor_uvc_stream_channel.cpp:156 getStreamChannelGroup Camera index out of range\n"
     ]
    }
   ],
   "source": [
    "cap = cv2.VideoCapture(0)\n",
    "array = np.zeros((33, 4))\n",
    "fileIndex = 0\n",
    "subFolderIndex = 0\n",
    "flag = 0\n",
    "folder_path = \"Trainingdata/Running\"\n",
    "\n",
    "while True:\n",
    "    success, img = cap.read()\n",
    "\n",
    "    if not success:\n",
    "        break\n",
    "    imgRGB = cv2.cvtColor(img, cv2.COLOR_BGR2RGB)\n",
    "    results = pose.process(imgRGB)\n",
    "    \n",
    "    if results.pose_landmarks:\n",
    "        mpDraw.draw_landmarks(img, results.pose_landmarks, mpPose.POSE_CONNECTIONS)\n",
    "        for id, lm in enumerate(results.pose_landmarks.landmark):\n",
    "            h, w, c = img.shape\n",
    "            cx, cy = int(lm.x * w), int(lm.y * h)\n",
    "            array[id] = lm\n",
    "    if flag == 1:\n",
    "        file_name = f\"Trainingdata/Walking/{folder_name}/{fileIndex}.npy\"\n",
    "        np.save(file_name, array)\n",
    "        fileIndex = fileIndex + 1\n",
    "        \n",
    "    if cv2.waitKey(1) == ord(\"k\"):  \n",
    "        flag = 1\n",
    "        fileIndex = 0\n",
    "        folder_name = f\"{subFolderIndex}\"\n",
    "        subFolderIndex = subFolderIndex +1\n",
    "        if not os.path.exists(folder_path):\n",
    "            os.makedirs(os.path.join(folder_path, folder_name))\n",
    "    if cv2.waitKey(1) == ord(\"l\"):\n",
    "        flag = 0\n",
    "    if cv2.waitKey(1) == ord(\"q\"):  \n",
    "        break\n",
    "        \n",
    "cv2.destroyAllWindows()\n",
    "cap.release()"
   ],
   "metadata": {
    "collapsed": false,
    "ExecuteTime": {
     "end_time": "2023-09-21T10:58:39.851019199Z",
     "start_time": "2023-09-21T10:58:39.803117360Z"
    }
   },
   "id": "28de77893f7d6de0"
  },
  {
   "cell_type": "code",
   "execution_count": 8,
   "outputs": [],
   "source": [],
   "metadata": {
    "collapsed": false,
    "ExecuteTime": {
     "end_time": "2023-09-21T10:58:43.522301300Z",
     "start_time": "2023-09-21T10:58:43.511133690Z"
    }
   },
   "id": "5691058baa20e17e"
  }
 ],
 "metadata": {
  "kernelspec": {
   "display_name": "Python 3",
   "language": "python",
   "name": "python3"
  },
  "language_info": {
   "codemirror_mode": {
    "name": "ipython",
    "version": 2
   },
   "file_extension": ".py",
   "mimetype": "text/x-python",
   "name": "python",
   "nbconvert_exporter": "python",
   "pygments_lexer": "ipython2",
   "version": "2.7.6"
  }
 },
 "nbformat": 4,
 "nbformat_minor": 5
}
